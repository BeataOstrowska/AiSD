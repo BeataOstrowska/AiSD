{
 "cells": [
  {
   "cell_type": "markdown",
   "metadata": {
    "collapsed": true,
    "pycharm": {
     "name": "#%% md\n"
    }
   },
   "source": [
    "# Lab 2 - lista jednokierunkowa\n",
    "\n",
    "Lista jednokierunkowa jest sekwencją połączonych ze sobą węzłów.\n",
    "Każdy z nich zawiera wartość (data lub value) oraz wskaźnik do następnego elementu (next).\n",
    "Wskaźnikiem do pierwszege elementu listy jest head, a wskaźnikiem do ostatniego elementu jest tail.\n",
    "\n",
    "[list]: https://camo.githubusercontent.com/762a90a761cfbc1306ebb537a81803d6ad224823/68747470733a2f2f7777772e7475746f7269616c73706f696e742e636f6d2f646174615f737472756374757265735f616c676f726974686d732f696d616765732f6473615f6c696e6b65646c6973742e6a7067\n",
    "\n",
    "Schemat listy: ![list]\n",
    "\n",
    "## Zadania\n",
    "\n",
    "### Zadanie 1.\n",
    "\n",
    "Przygotować implementację listy jednokierunkowej wg następujących wymagań:\n",
    "- klasa Node będzie reprezentacją węzła\n",
    "- klasa LinkedList będzie reprezentacją listy jednokierunkowej\n",
    "- metoda push umieści nowy węzeł na początku listy\n",
    "- metoda append umieści nowy węzeł na końcu listy\n",
    "- metoda node zwróci węzeł znajdujący się na wskazanej pozycji\n",
    "- metoda insert wstawi nowy węzeł tuż za węzłem wskazanym w parametrze\n",
    "- metoda pop usunie pierwszy element z listy i go zwróci\n",
    "- metoda remove_last usunie ostatni element z listy i go zwróci\n",
    "- metoda remove usunie z listy następnik węzła przekazanego w parametrze\n",
    "- metoda print wywołana na obiekcie listy zawierającym 2 elementy [0, 1] wyświetli na ekranie \"0 -> 1\"\n",
    "- metoda len wywołana na obiekcie listy zwróci jej długość\n",
    "\n",
    "Proponowany schemat klas:"
   ]
  },
  {
   "cell_type": "code",
   "execution_count": 1,
   "outputs": [],
   "source": [
    "from typing import Any\n",
    "\n",
    "class Node:\n",
    "    value: Any\n",
    "    next: 'Node'\n",
    "\n",
    "class LinkedList:\n",
    "    head: Node\n",
    "    tail: Node"
   ],
   "metadata": {
    "collapsed": false,
    "pycharm": {
     "name": "#%%\n"
    }
   }
  },
  {
   "cell_type": "markdown",
   "source": [
    "Proponowany schemat testów"
   ],
   "metadata": {
    "collapsed": false,
    "pycharm": {
     "name": "#%% md\n"
    }
   }
  },
  {
   "cell_type": "code",
   "execution_count": 2,
   "outputs": [],
   "source": [
    "list_ = LinkedList()"
   ],
   "metadata": {
    "collapsed": false,
    "pycharm": {
     "name": "#%%\n"
    }
   }
  },
  {
   "cell_type": "markdown",
   "source": [
    "Nowa lista jest pusta"
   ],
   "metadata": {
    "collapsed": false,
    "pycharm": {
     "name": "#%% md\n"
    }
   }
  },
  {
   "cell_type": "code",
   "execution_count": 3,
   "outputs": [],
   "source": [
    "assert list_.head == None"
   ],
   "metadata": {
    "collapsed": false,
    "pycharm": {
     "name": "#%%\n"
    }
   }
  },
  {
   "cell_type": "markdown",
   "source": [
    "Metoda push umieszcza elementy na początku listy"
   ],
   "metadata": {
    "collapsed": false,
    "pycharm": {
     "name": "#%% md\n"
    }
   }
  },
  {
   "cell_type": "code",
   "execution_count": 4,
   "outputs": [],
   "source": [
    "list_.push(1)\n",
    "list_.push(0)\n",
    "\n",
    "assert str(list_) == '0 -> 1'"
   ],
   "metadata": {
    "collapsed": false,
    "pycharm": {
     "name": "#%%\n"
    }
   }
  },
  {
   "cell_type": "markdown",
   "source": [
    "Metoda append umieszcza elementy na końcu listy"
   ],
   "metadata": {
    "collapsed": false,
    "pycharm": {
     "name": "#%% md\n"
    }
   }
  },
  {
   "cell_type": "code",
   "execution_count": 5,
   "outputs": [],
   "source": [
    "list_.append(9)\n",
    "list_.append(10)\n",
    "\n",
    "assert str(list_) == '0 -> 1 -> 9 -> 10'"
   ],
   "metadata": {
    "collapsed": false,
    "pycharm": {
     "name": "#%%\n"
    }
   }
  },
  {
   "cell_type": "markdown",
   "source": [
    "Element o indeksie 2 po wywołaniu metody insert będzie miał wartość 5"
   ],
   "metadata": {
    "collapsed": false,
    "pycharm": {
     "name": "#%% md\n"
    }
   }
  },
  {
   "cell_type": "code",
   "execution_count": 6,
   "outputs": [],
   "source": [
    "middle_node = list_.node(at=1)\n",
    "list_.insert(5, after=middle_node)\n",
    "\n",
    "assert str(list_) == '0 -> 1 -> 5 -> 9 -> 10'"
   ],
   "metadata": {
    "collapsed": false,
    "pycharm": {
     "name": "#%%\n"
    }
   }
  },
  {
   "cell_type": "markdown",
   "source": [
    "Metoda pop usuwa i zwraca pierwszy element listy"
   ],
   "metadata": {
    "collapsed": false,
    "pycharm": {
     "name": "#%% md\n"
    }
   }
  },
  {
   "cell_type": "code",
   "execution_count": 7,
   "outputs": [],
   "source": [
    "first_element = list_.node(at=0)\n",
    "returned_first_element = list_.pop()\n",
    "\n",
    "assert first_element.value == returned_first_element"
   ],
   "metadata": {
    "collapsed": false,
    "pycharm": {
     "name": "#%%\n"
    }
   }
  },
  {
   "cell_type": "markdown",
   "source": [
    "Metoda remove_last usuwa i zwraca ostatni element listy"
   ],
   "metadata": {
    "collapsed": false,
    "pycharm": {
     "name": "#%% md\n"
    }
   }
  },
  {
   "cell_type": "code",
   "execution_count": 8,
   "outputs": [],
   "source": [
    "last_element = list_.node(at=3)\n",
    "returned_last_element = list_.remove_last()\n",
    "\n",
    "assert last_element.value == returned_last_element\n",
    "assert str(list_) == '1 -> 5 -> 9'"
   ],
   "metadata": {
    "collapsed": false,
    "pycharm": {
     "name": "#%%\n"
    }
   }
  },
  {
   "cell_type": "markdown",
   "source": [
    "Metoda remove przyjmuje węzeł jako argument, a następnie usuwa jego następnik"
   ],
   "metadata": {
    "collapsed": false,
    "pycharm": {
     "name": "#%% md\n"
    }
   }
  },
  {
   "cell_type": "code",
   "execution_count": 9,
   "outputs": [],
   "source": [
    "second_node = list_.node(at=1)\n",
    "list_.remove(second_node)\n",
    "\n",
    "assert str(list_) == '1 -> 5'\n",
    "\n",
    "\n"
   ],
   "metadata": {
    "collapsed": false,
    "pycharm": {
     "name": "#%%\n"
    }
   }
  }
 ],
 "metadata": {
  "kernelspec": {
   "display_name": "Python 3",
   "language": "python",
   "name": "python3"
  },
  "language_info": {
   "codemirror_mode": {
    "name": "ipython",
    "version": 2
   },
   "file_extension": ".py",
   "mimetype": "text/x-python",
   "name": "python",
   "nbconvert_exporter": "python",
   "pygments_lexer": "ipython2",
   "version": "2.7.6"
  }
 },
 "nbformat": 4,
 "nbformat_minor": 0
}