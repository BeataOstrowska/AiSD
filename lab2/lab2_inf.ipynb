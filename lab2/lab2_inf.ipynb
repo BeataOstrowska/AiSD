{
 "cells": [
  {
   "cell_type": "markdown",
   "metadata": {
    "collapsed": true,
    "pycharm": {
     "name": "#%% md\n"
    }
   },
   "source": [
    "# Lab 2 - lista jednokierunkowa\n",
    "\n",
    "Lista jednokierunkowa jest sekwencją połączonych ze sobą węzłów.\n",
    "Każdy z nich zawiera wartość (data lub value) oraz wskaźnik do następnego elementu (next).\n",
    "Wskaźnikiem do pierwszege elementu listy jest head, a wskaźnikiem do ostatniego elementu jest tail.\n",
    "\n",
    "[list]: https://camo.githubusercontent.com/762a90a761cfbc1306ebb537a81803d6ad224823/68747470733a2f2f7777772e7475746f7269616c73706f696e742e636f6d2f646174615f737472756374757265735f616c676f726974686d732f696d616765732f6473615f6c696e6b65646c6973742e6a7067\n",
    "\n",
    "Schemat listy: ![list]\n",
    "\n",
    "https://camo.githubusercontent.com/762a90a761cfbc1306ebb537a81803d6ad224823/68747470733a2f2f7777772e7475746f7269616c73706f696e742e636f6d2f646174615f737472756374757265735f616c676f726974686d732f696d616765732f6473615f6c696e6b65646c6973742e6a7067\n",
    "\n",
    "## Zadania\n",
    "\n",
    "### Zadanie 1.\n",
    "\n",
    "Przygotować implementację listy jednokierunkowej wg następujących wymagań:\n",
    "- klasa Node będzie reprezentacją węzła\n",
    "- klasa LinkedList będzie reprezentacją listy jednokierunkowej\n",
    "- metoda push umieści nowy węzeł na początku listy\n",
    "- metoda append umieści nowy węzeł na końcu listy\n",
    "- metoda node zwróci węzeł znajdujący się na wskazanej pozycji\n",
    "- metoda insert wstawi nowy węzeł tuż za węzłem wskazanym w parametrze\n",
    "- metoda pop usunie pierwszy element z listy i go zwróci\n",
    "- metoda remove_last usunie ostatni element z listy i go zwróci\n",
    "- metoda remove usunie z listy następnik węzła przekazanego w parametrze\n",
    "- metoda print wywołana na obiekcie listy zawierającym 2 elementy [0, 1] wyświetli na ekranie \"0 -> 1\"\n",
    "- metoda len wywołana na obiekcie listy zwróci jej długość\n",
    "\n",
    "Proponowany schemat klas:"
   ]
  },
  {
   "cell_type": "code",
   "execution_count": 1,
   "metadata": {
    "pycharm": {
     "name": "#%%\n"
    }
   },
   "outputs": [],
   "source": [
    "from typing import Any\n",
    "\n",
    "class Node:\n",
    "    value: Any\n",
    "    next: 'Node'\n",
    "\n",
    "class LinkedList:\n",
    "    head: Node\n",
    "    tail: Node"
   ]
  },
  {
   "cell_type": "markdown",
   "metadata": {
    "pycharm": {
     "name": "#%% md\n"
    }
   },
   "source": [
    "Proponowany schemat testów"
   ]
  },
  {
   "cell_type": "code",
   "execution_count": 2,
   "metadata": {
    "pycharm": {
     "name": "#%%\n"
    }
   },
   "outputs": [],
   "source": [
    "list_ = LinkedList()"
   ]
  },
  {
   "cell_type": "markdown",
   "metadata": {
    "pycharm": {
     "name": "#%% md\n"
    }
   },
   "source": [
    "Nowa lista jest pusta"
   ]
  },
  {
   "cell_type": "code",
   "execution_count": 3,
   "metadata": {
    "pycharm": {
     "name": "#%%\n"
    }
   },
   "outputs": [],
   "source": [
    "assert list_.head == None"
   ]
  },
  {
   "cell_type": "markdown",
   "metadata": {
    "pycharm": {
     "name": "#%% md\n"
    }
   },
   "source": [
    "Metoda push umieszcza elementy na początku listy"
   ]
  },
  {
   "cell_type": "code",
   "execution_count": 4,
   "metadata": {
    "pycharm": {
     "name": "#%%\n"
    }
   },
   "outputs": [],
   "source": [
    "list_.push(1)\n",
    "list_.push(0)\n",
    "\n",
    "assert str(list_) == '0 -> 1'"
   ]
  },
  {
   "cell_type": "markdown",
   "metadata": {
    "pycharm": {
     "name": "#%% md\n"
    }
   },
   "source": [
    "Metoda append umieszcza elementy na końcu listy"
   ]
  },
  {
   "cell_type": "code",
   "execution_count": 5,
   "metadata": {
    "pycharm": {
     "name": "#%%\n"
    }
   },
   "outputs": [],
   "source": [
    "list_.append(9)\n",
    "list_.append(10)\n",
    "\n",
    "assert str(list_) == '0 -> 1 -> 9 -> 10'"
   ]
  },
  {
   "cell_type": "markdown",
   "metadata": {
    "pycharm": {
     "name": "#%% md\n"
    }
   },
   "source": [
    "Element o indeksie 2 po wywołaniu metody insert będzie miał wartość 5"
   ]
  },
  {
   "cell_type": "code",
   "execution_count": 6,
   "metadata": {
    "pycharm": {
     "name": "#%%\n"
    }
   },
   "outputs": [],
   "source": [
    "middle_node = list_.node(at=1)\n",
    "list_.insert(5, after=middle_node)\n",
    "\n",
    "assert str(list_) == '0 -> 1 -> 5 -> 9 -> 10'"
   ]
  },
  {
   "cell_type": "markdown",
   "metadata": {
    "pycharm": {
     "name": "#%% md\n"
    }
   },
   "source": [
    "Metoda pop usuwa i zwraca pierwszy element listy"
   ]
  },
  {
   "cell_type": "code",
   "execution_count": 7,
   "metadata": {
    "pycharm": {
     "name": "#%%\n"
    }
   },
   "outputs": [],
   "source": [
    "first_element = list_.node(at=0)\n",
    "returned_first_element = list_.pop()\n",
    "\n",
    "assert first_element.value == returned_first_element"
   ]
  },
  {
   "cell_type": "markdown",
   "metadata": {
    "pycharm": {
     "name": "#%% md\n"
    }
   },
   "source": [
    "Metoda remove_last usuwa i zwraca ostatni element listy"
   ]
  },
  {
   "cell_type": "code",
   "execution_count": 8,
   "metadata": {
    "pycharm": {
     "name": "#%%\n"
    }
   },
   "outputs": [],
   "source": [
    "last_element = list_.node(at=3)\n",
    "returned_last_element = list_.remove_last()\n",
    "\n",
    "assert last_element.value == returned_last_element\n",
    "assert str(list_) == '1 -> 5 -> 9'"
   ]
  },
  {
   "cell_type": "markdown",
   "metadata": {
    "pycharm": {
     "name": "#%% md\n"
    }
   },
   "source": [
    "Metoda remove przyjmuje węzeł jako argument, a następnie usuwa jego następnik"
   ]
  },
  {
   "cell_type": "code",
   "execution_count": 9,
   "metadata": {
    "pycharm": {
     "name": "#%%\n"
    }
   },
   "outputs": [],
   "source": [
    "second_node = list_.node(at=1)\n",
    "list_.remove(second_node)\n",
    "\n",
    "assert str(list_) == '1 -> 5'\n",
    "\n",
    "\n"
   ]
  }
 ],
 "metadata": {
  "kernelspec": {
   "display_name": "Python 3",
   "language": "python",
   "name": "python3"
  },
  "language_info": {
   "codemirror_mode": {
    "name": "ipython",
    "version": 3
   },
   "file_extension": ".py",
   "mimetype": "text/x-python",
   "name": "python",
   "nbconvert_exporter": "python",
   "pygments_lexer": "ipython3",
   "version": "3.8.3"
  }
 },
 "nbformat": 4,
 "nbformat_minor": 1
}